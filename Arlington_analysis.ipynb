{
 "cells": [
  {
   "cell_type": "markdown",
   "metadata": {},
   "source": [
    "# OpenStreetMap Data Project "
   ]
  },
  {
   "cell_type": "markdown",
   "metadata": {},
   "source": [
    "## Arlington, Virginia Street Data "
   ]
  },
  {
   "cell_type": "markdown",
   "metadata": {},
   "source": [
    "## 1. Libraries used to parse data \n",
    "\n",
    "### After downloading a large xml file of data from openstreetmap.org I used several python libraries to parse, clean, and import the data into a local MongoDB database. "
   ]
  },
  {
   "cell_type": "code",
   "execution_count": 1,
   "metadata": {
    "collapsed": true
   },
   "outputs": [],
   "source": [
    "from pymongo import MongoClient\n",
    "import xml.etree.cElementTree as ET\n",
    "from collections import defaultdict\n",
    "from collections import deque\n",
    "import re\n",
    "import pprint\n"
   ]
  },
  {
   "cell_type": "markdown",
   "metadata": {},
   "source": [
    "#### The following code opens my street data for the city of Arlington, VA downloaded from OpenStreetMap, then creates 2 diferent dictionaries that I will use to store the data later. "
   ]
  },
  {
   "cell_type": "code",
   "execution_count": null,
   "metadata": {
    "collapsed": true
   },
   "outputs": [],
   "source": [
    "arlington_xml_data = open(\"arlington_xml_data\", \"r\")\n",
    "street_type_re = re.compile(r'\\b\\S+\\.?$', re.IGNORECASE)\n",
    "street_types = defaultdict(set)\n",
    "experiment = {}"
   ]
  },
  {
   "cell_type": "markdown",
   "metadata": {},
   "source": [
    "#### List of unwanted street types"
   ]
  },
  {
   "cell_type": "code",
   "execution_count": null,
   "metadata": {
    "collapsed": true
   },
   "outputs": [],
   "source": [
    "bad_list = ['Southwest', 'S.W.','Southeast', 'Southwest', 'St.', 'Hwy', 'North1', 'Northeast', 'Northwest', 'Ave.', 'Southeast\\\\']\n"
   ]
  },
  {
   "cell_type": "markdown",
   "metadata": {},
   "source": [
    "#### List of expected street types"
   ]
  },
  {
   "cell_type": "code",
   "execution_count": 2,
   "metadata": {
    "collapsed": true
   },
   "outputs": [],
   "source": [
    "expected = [\"Street\", \"Avenue\", \"Boulevard\", \"Drive\", \"Court\", \"Place\", \"Square\", \"Lane\", \"Road\", \"Trail\", \"Parkway\", \"Commons\"]"
   ]
  },
  {
   "cell_type": "markdown",
   "metadata": {},
   "source": [
    "#### Below is my connection to my mongodb database for insterting cleaned data"
   ]
  },
  {
   "cell_type": "code",
   "execution_count": 3,
   "metadata": {
    "collapsed": true
   },
   "outputs": [],
   "source": [
    "client = MongoClient(port=27017)\n",
    "db = client.project2try2\n"
   ]
  },
  {
   "cell_type": "markdown",
   "metadata": {},
   "source": [
    "### The following code is for auditing the dataset and then adding the street data to the street types dictionary"
   ]
  },
  {
   "cell_type": "code",
   "execution_count": null,
   "metadata": {
    "collapsed": true
   },
   "outputs": [],
   "source": [
    "def audit_street_types(street_types, street_name):\n",
    "    x = street_type_re.search(street_name)\n",
    "    if x:\n",
    "        street_type = x.group()\n",
    "        if street_type not in expected:\n",
    "            street_types[street_type].add(street_name)\n",
    "\n",
    "\n",
    "def is_street_name(elem):\n",
    "    return (elem.attrib['k'] == \"addr:street\")\n",
    "\n",
    "\n",
    "def audit():\n",
    "    for event, elem in ET.iterparse(arlington_xml_data, events=(\"start\",)):\n",
    "        if elem.tag == \"way\":\n",
    "            for tag in elem.iter(\"tag\"):\n",
    "                if is_street_name(tag):\n",
    "                    audit_street_types(street_types, tag.attrib['v'])\n",
    "    #pprint.pprint(dict(street_types))\n",
    "    return(dict(street_types))\n"
   ]
  },
  {
   "cell_type": "markdown",
   "metadata": {},
   "source": [
    "## 2. Prepare data for database"
   ]
  },
  {
   "cell_type": "markdown",
   "metadata": {},
   "source": [
    "#### Making sure unwanted street types don't make their way into the database, so I set the key values for the dictionary I am using to prepare data for database insertion.\n"
   ]
  },
  {
   "cell_type": "code",
   "execution_count": null,
   "metadata": {
    "collapsed": true
   },
   "outputs": [],
   "source": [
    "def create_default_dict_structure(street_types):\n",
    "    for street in street_types:\n",
    "        if street not in bad_list:\n",
    "            experiment.setdefault(street, [])\n"
   ]
  },
  {
   "cell_type": "markdown",
   "metadata": {},
   "source": [
    "### The \"change_data\" function is used to check for certain street types that I wanted to change before adding the data into the experiment dictionary. I changed directions like Southwest to the abbreviated SE, Hwy to the full Highway, and removed a few erroneous names. "
   ]
  },
  {
   "cell_type": "code",
   "execution_count": null,
   "metadata": {
    "collapsed": true
   },
   "outputs": [],
   "source": [
    "def change_data(street_types_dict):\n",
    "    for x in street_types_dict:\n",
    "\n",
    "        if x == 'Southwest':\n",
    "            for y, street in enumerate(street_types_dict[x]):\n",
    "                #check to see if not in the list of streets we don't want in our new dictionary\n",
    "                #if street not in bad_list:\n",
    "                    name = street.split(' ')\n",
    "                    #iterate over the street name after splitting it to check for term you want to replace\n",
    "\n",
    "                    for i, n in enumerate(name):\n",
    "                        if n == 'Southwest':\n",
    "                            name[i] = 'SW'\n",
    "                            experiment.setdefault(name[i], [])\n",
    "                            new = ' '.join(name)\n",
    "                            experiment[name[i]].append(new)\n",
    "        if x == 'Ave.':\n",
    "            for y, street in enumerate(street_types_dict[x]):\n",
    "                    name = street.split(' ')\n",
    "                    for i, n in enumerate(name):\n",
    "                        if n == 'Ave.':\n",
    "                            name[i] = 'Ave'\n",
    "                            experiment.setdefault(name[i], [])\n",
    "                            new = ' '.join(name)\n",
    "                            experiment[name[i]].append(new)\n",
    "        if x == 'S.W.':\n",
    "            for y, street in enumerate(street_types_dict[x]):\n",
    "                    name = street.split(' ')\n",
    "                    for i, n in enumerate(name):\n",
    "                        if n == 'S.W.':\n",
    "                            name[i] = 'SW'\n",
    "                            experiment.setdefault(name[i], [])\n",
    "                            new = ' '.join(name)\n",
    "                            experiment[name[i]].append(new)\n",
    "        if x == 'Southeast\\\\':\n",
    "            for y, street in enumerate(street_types_dict[x]):\n",
    "                    name = street.split(' ')\n",
    "                    for i, n in enumerate(name):\n",
    "                        if n == 'Southeast\\\\':\n",
    "                            name[i] = 'SE'\n",
    "                            experiment.setdefault(name[i], [])\n",
    "                            new = ' '.join(name)\n",
    "                            experiment[name[i]].append(new)\n",
    "        if x == 'St.':\n",
    "            for y, street in enumerate(street_types_dict[x]):\n",
    "                    name = street.split(' ')\n",
    "                    for i, n in enumerate(name):\n",
    "                        if n == 'St.':\n",
    "                            name[i] = 'St'\n",
    "                            experiment.setdefault(name[i], [])\n",
    "                            new = ' '.join(name)\n",
    "                            experiment[name[i]].append(new)\n",
    "        if x == 'Southeast':\n",
    "            for y, street in enumerate(street_types_dict[x]):\n",
    "                    name = street.split(' ')\n",
    "                    for i, n in enumerate(name):\n",
    "                        if n == 'Southeast':\n",
    "                            name[i] = 'SE'\n",
    "                            experiment.setdefault(name[i], [])\n",
    "                            new = ' '.join(name)\n",
    "                            experiment[name[i]].append(new)\n",
    "        if x == 'North1':\n",
    "            for y, street in enumerate(street_types_dict[x]):\n",
    "                    name = street.split(' ')\n",
    "                    for i, n in enumerate(name):\n",
    "                        if n == 'North1':\n",
    "                            name[i] = 'North'\n",
    "                            experiment.setdefault(name[i], [])\n",
    "                            new = ' '.join(name)\n",
    "                            experiment[name[i]].append(new)\n",
    "        if x == 'Northeast':\n",
    "            for y, street in enumerate(street_types_dict[x]):\n",
    "                    name = street.split(' ')\n",
    "                    for i, n in enumerate(name):\n",
    "                        if n == 'Northeast':\n",
    "                            name[i] = 'NE'\n",
    "                            experiment.setdefault(name[i], [])\n",
    "                            new = ' '.join(name)\n",
    "                            experiment[name[i]].append(new)\n",
    "        if x == 'Northwest':\n",
    "            for y, street in enumerate(street_types_dict[x]):\n",
    "                    name = street.split(' ')\n",
    "                    for i, n in enumerate(name):\n",
    "                        if n == 'Northwest':\n",
    "                            name[i] = 'NW'\n",
    "                            experiment.setdefault(name[i], [])\n",
    "                            new = ' '.join(name)\n",
    "                            experiment[name[i]].append(new)\n",
    "        if x == 'Hwy':\n",
    "            for y, street in enumerate(street_types_dict[x]):\n",
    "                    name = street.split(' ')\n",
    "                    for i, n in enumerate(name):\n",
    "                        if n == 'Hwy':\n",
    "                            name[i] = 'Highway'\n",
    "                            experiment.setdefault(name[i], [])\n",
    "                            new = ' '.join(name)\n",
    "                            experiment[name[i]].append(new)\n",
    "        else:\n",
    "            if x not in bad_list:\n",
    "                experiment.setdefault(x, [])\n",
    "                for street in street_types_dict[x]:\n",
    "                    experiment[x].append(street)\n"
   ]
  },
  {
   "cell_type": "markdown",
   "metadata": {},
   "source": [
    "## 3. Insert Data into local MongoDB database (must have database server running and indicated the proper port)"
   ]
  },
  {
   "cell_type": "code",
   "execution_count": null,
   "metadata": {},
   "outputs": [],
   "source": [
    "audit()\n",
    "create_default_dict_structure(street_types)\n",
    "change_data(street_types)"
   ]
  },
  {
   "cell_type": "markdown",
   "metadata": {},
   "source": [
    "### This function structures the JSON object and then inserts into database. "
   ]
  },
  {
   "cell_type": "code",
   "execution_count": null,
   "metadata": {},
   "outputs": [],
   "source": [
    "def db_insert(experiment):\n",
    "    street_type = 'street_type'\n",
    "    street_name = 'street_name'\n",
    "    for x in experiment:\n",
    "        street_insert = {\n",
    "            street_type : x,\n",
    "            street_name : experiment[x]\n",
    "        }\n",
    "        result = db.streets.insert_one(street_insert)\n",
    "        print(result.inserted_id)\n",
    "\n",
    "\n",
    "\n",
    "db_insert(experiment)"
   ]
  },
  {
   "cell_type": "markdown",
   "metadata": {},
   "source": [
    "## 4. Data Queries "
   ]
  },
  {
   "cell_type": "markdown",
   "metadata": {},
   "source": [
    "### Number of documents"
   ]
  },
  {
   "cell_type": "code",
   "execution_count": null,
   "metadata": {
    "collapsed": true
   },
   "outputs": [],
   "source": [
    "db.streets.find({}).count()"
   ]
  },
  {
   "cell_type": "code",
   "execution_count": null,
   "metadata": {
    "collapsed": true
   },
   "outputs": [],
   "source": [
    "1771"
   ]
  },
  {
   "cell_type": "markdown",
   "metadata": {},
   "source": [
    "### Querying the database to see the most common street types "
   ]
  },
  {
   "cell_type": "code",
   "execution_count": null,
   "metadata": {
    "collapsed": true
   },
   "outputs": [],
   "source": [
    "> db.streets.find({\"street_type\" : \"SE\"}).count()\n",
    "406\n",
    "> db.streets.find({\"street_type\" : \"NE\"}).count()\n",
    "397\n",
    "> db.streets.find({\"street_type\" : \"NW\"}).count()\n",
    "623\n",
    "> db.streets.find({\"street_type\" : \"SW\"}).count()\n",
    "127"
   ]
  },
  {
   "cell_type": "markdown",
   "metadata": {},
   "source": [
    "## 5. Thoughts for next time"
   ]
  },
  {
   "cell_type": "markdown",
   "metadata": {},
   "source": [
    "### I could do some more interesting queries if I used a more complex data set to insert into my database. I also played around a bit with the structure of the JSON objects that I inserted into my MongoDB database and the types of characteristics that I included.\n",
    "\n",
    "### During data cleaning I certainly could have written more efficient code. I would often wait minutes at a time after making small changes to my code just to see if it would run properly and execute on the dataset. Part of that is the nature of analyzing a large dataset, but some of my functions have multiple nested for loops which can be extremely slow. \n",
    "\n",
    "### I enjoyed learning how to use MongoDB and it was cool to see that I could use the MongoClient python library to connect to my local DB and then push directly from my python file. "
   ]
  },
  {
   "cell_type": "markdown",
   "metadata": {},
   "source": [
    "## Sources \n",
    "\n",
    "#### https://www.mongodb.com/blog/post/getting-started-with-python-and-mongodb\n",
    "#### https://docs.mongodb.com/manual/mongo/\n",
    "#### https://docs.python.org/2/library/collections.html"
   ]
  },
  {
   "cell_type": "code",
   "execution_count": null,
   "metadata": {
    "collapsed": true
   },
   "outputs": [],
   "source": []
  }
 ],
 "metadata": {
  "kernelspec": {
   "display_name": "Python [conda root]",
   "language": "python",
   "name": "conda-root-py"
  },
  "language_info": {
   "codemirror_mode": {
    "name": "ipython",
    "version": 3
   },
   "file_extension": ".py",
   "mimetype": "text/x-python",
   "name": "python",
   "nbconvert_exporter": "python",
   "pygments_lexer": "ipython3",
   "version": "3.6.1"
  }
 },
 "nbformat": 4,
 "nbformat_minor": 2
}
